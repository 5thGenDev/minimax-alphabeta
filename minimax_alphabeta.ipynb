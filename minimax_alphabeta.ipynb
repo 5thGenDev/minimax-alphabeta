{
  "nbformat": 4,
  "nbformat_minor": 0,
  "metadata": {
    "colab": {
      "provenance": []
    },
    "kernelspec": {
      "name": "python3",
      "display_name": "Python 3"
    },
    "language_info": {
      "name": "python"
    }
  },
  "cells": [
    {
      "cell_type": "markdown",
      "source": [
        "# Creating the tree\n",
        "Increasing indent means deeper rows"
      ],
      "metadata": {
        "id": "TrP2gV7aK9hq"
      }
    },
    {
      "cell_type": "code",
      "execution_count": 52,
      "metadata": {
        "colab": {
          "base_uri": "https://localhost:8080/"
        },
        "id": "X7IUB1r9jWB_",
        "outputId": "9f581f7d-e27b-44cf-9bd6-b6760bc9e5d0"
      },
      "outputs": [
        {
          "output_type": "stream",
          "name": "stdout",
          "text": [
            "('currentPos', None)\n",
            "  ('A1', None)\n",
            "    ('A11', 11)\n",
            "    ('A12', 3)\n",
            "    ('A13', 8)\n",
            "  ('A2', None)\n",
            "    ('A21', 12)\n",
            "    ('A22', 6)\n",
            "    ('A23', 7)\n",
            "  ('A3', None)\n",
            "    ('A31', 4)\n",
            "    ('A32', 5)\n",
            "    ('A33', 12)\n"
          ]
        }
      ],
      "source": [
        "class Pos:\n",
        "    def __init__(self, val=0, name=\"\"):\n",
        "        self.value = val\n",
        "        self.name = name\n",
        "        self.children = []\n",
        "\n",
        "    def add_child(self, node):\n",
        "        self.children.append(node)\n",
        "\n",
        "    def getPos(self):\n",
        "        return (self.name, self.value)\n",
        "\n",
        "    def correct_reorder_children(self, tree_depth=0):\n",
        "        \"\"\"\n",
        "        To make minimax-alphabeta pruning works,\n",
        "        sort Max Player's children nodes in descending order,\n",
        "        sort Min Player's children nodes in ascending order.\n",
        "        \"\"\"\n",
        "\n",
        "        # Depth 0,2,4 has Max Player; Depth 1,3,5 has Min Player.\n",
        "        # Starting from root node,\n",
        "        # sort row 1,3,5... according for Max Player\n",
        "        # sort row 0,2,4 according for Min Player. Bottom row in this exercise is row 2\n",
        "        is_max_player = (tree_depth % 2 == 0)\n",
        "\n",
        "        def getValue(pos):\n",
        "            if pos.value is not None:\n",
        "                return pos.value\n",
        "            elif pos.children:\n",
        "                list_children = [getValue(child) for child in pos.children]\n",
        "                return max(list_children) if is_max_player else min(list_children)\n",
        "            else:\n",
        "                return -float('inf') if is_max_player else float('inf')\n",
        "\n",
        "        \"\"\"\n",
        "        recursive in coding is confusing. This function makes it double.\n",
        "        In this example, self.children.sort does 2 things\n",
        "            1st: returns value for A1=max(A11,A12,A13), A2=max(A21,A22,A23), A3=max(A31,A32,A33) by recursive call getValue()\n",
        "            2nd: sorts A1,A2,A3 in descending order since root node is Max Player\n",
        "        \"\"\"\n",
        "        self.children.sort(key=getValue, reverse=is_max_player)\n",
        "\n",
        "        \"\"\"\n",
        "        Do the two processes at L41 again for A1,A2,A3\n",
        "        \"\"\"\n",
        "        for child in self.children:\n",
        "            child.correct_reorder_children(tree_depth=tree_depth + 1)\n",
        "\n",
        "        return self\n",
        "\n",
        "    def naive_reorder_child(self, reverse=False):\n",
        "        def get_sort_value(pos):\n",
        "            if pos.value is not None:\n",
        "                return pos.value\n",
        "            elif pos.children:\n",
        "                sorted_children = [get_sort_value(child) for child in pos.children]\n",
        "                return max(sorted_children) if reverse else min(sorted_children)\n",
        "            else:\n",
        "                return -float('inf') if reverse else float('inf')\n",
        "\n",
        "        self.children.sort(key=get_sort_value, reverse=reverse)\n",
        "\n",
        "        for child in self.children:\n",
        "            child.naive_reorder_child(reverse=reverse)\n",
        "\n",
        "currentPos = Pos(val=None, name=\"currentPos\")\n",
        "A1 = Pos(val=None, name=\"A1\")\n",
        "A2 = Pos(val=None, name=\"A2\")\n",
        "A3 = Pos(val=None, name=\"A3\")\n",
        "A11 = Pos(val=11, name=\"A11\")\n",
        "A12 = Pos(val=3, name=\"A12\")\n",
        "A13 = Pos(val=8, name=\"A13\")\n",
        "A21 = Pos(val=12, name=\"A21\")\n",
        "A22 = Pos(val=6, name=\"A22\")\n",
        "A23 = Pos(val=7, name=\"A23\")\n",
        "A31 = Pos(val=4, name=\"A31\")\n",
        "A32 = Pos(val=5, name=\"A32\")\n",
        "A33 = Pos(val=12, name=\"A33\")\n",
        "\n",
        "currentPos.add_child(A1)\n",
        "currentPos.add_child(A2)\n",
        "currentPos.add_child(A3)\n",
        "A1.add_child(A11)\n",
        "A1.add_child(A12)\n",
        "A1.add_child(A13)\n",
        "A2.add_child(A21)\n",
        "A2.add_child(A22)\n",
        "A2.add_child(A23)\n",
        "A3.add_child(A31)\n",
        "A3.add_child(A32)\n",
        "A3.add_child(A33)\n",
        "\n",
        "def print_tree(pos, level=0):\n",
        "    indent = \"  \" * level\n",
        "    print(f\"{indent}{pos.getPos()}\")\n",
        "\n",
        "    for child in pos.children:\n",
        "        print_tree(child, level + 1)\n",
        "\n",
        "print_tree(currentPos)"
      ]
    },
    {
      "cell_type": "markdown",
      "source": [
        "# Minimax function\n",
        "- Increasing indent means minimax search is reaching til the end.\n",
        "- Trace code visualises which node is being visited by minimax first. So from the example trace code below, you read as \"Minimax visits all nodes in the following orders: A11 -> A12 -> A13 -> A1 -> A21 -> A22 -> A23 -> A2 -> A31 -> A32 -> A33 -> A3 -> root node\".\n",
        "- Minimax depth search starts from bottom left nodes all the way to top (like inverted DFS) whereas we look at the tree from root node to bottom nodes. So to not confusing ourselves looking at the trace code, I define minimax depth as the exact row-ordering that minimax is visiting nodes: from bottom -> top, and tree depth is the ordering that we are looking at: from top -> bottom."
      ],
      "metadata": {
        "id": "G-4hmxnzLJvm"
      }
    },
    {
      "cell_type": "code",
      "source": [
        "def gameOver(pos):\n",
        "    if pos.value == 100:\n",
        "        return True\n",
        "    else:\n",
        "        return False\n",
        "\n",
        "\n",
        "nodeProcessed = 0\n",
        "def minimax(pos, minimax_depth, maxPlayer, tree_depth=0):\n",
        "    global nodeProcessed\n",
        "\n",
        "    # tracing minimax code\n",
        "    indent = \"  \" * minimax_depth\n",
        "    print(f\"{indent} Visiting position: {pos.getPos()} | Minimax Depth: {minimax_depth} | Tree Depth: {tree_depth} | MaxPlayer: {maxPlayer}\")\n",
        "\n",
        "    if minimax_depth == 0 or gameOver(pos):\n",
        "        return pos.value\n",
        "\n",
        "    if maxPlayer:\n",
        "        maxEval = -float(\"inf\")\n",
        "        for child in pos.children:\n",
        "            nodeProcessed += 1\n",
        "            eval = minimax(pos=child, minimax_depth=minimax_depth - 1, maxPlayer=False, tree_depth=tree_depth + 1)\n",
        "            maxEval = max(maxEval, eval)\n",
        "        print(f\"{indent} Position: {pos.getPos()} update value to: {maxEval} \\n\")\n",
        "        return maxEval\n",
        "\n",
        "    else:\n",
        "        minEval = float(\"inf\")\n",
        "        for child in pos.children:\n",
        "            nodeProcessed += 1\n",
        "            eval = minimax(pos=child, minimax_depth=minimax_depth - 1, maxPlayer=True, tree_depth=tree_depth + 1)\n",
        "            minEval = min(minEval, eval)\n",
        "        print(f\"{indent} Position: {pos.getPos()} update value to: {minEval} \\n\")\n",
        "        return minEval\n",
        "\n",
        "rootPos = minimax(pos=currentPos, minimax_depth=2, maxPlayer=True)\n",
        "print(\"\\nMax Player's value at Current Position (root node): \", rootPos)\n",
        "print(f\"{nodeProcessed} nodes processed/12 total nodes\")"
      ],
      "metadata": {
        "colab": {
          "base_uri": "https://localhost:8080/"
        },
        "id": "Mb1uvrqwn12N",
        "outputId": "eb07878d-7ff4-46b4-e759-c2332312d0e8"
      },
      "execution_count": 64,
      "outputs": [
        {
          "output_type": "stream",
          "name": "stdout",
          "text": [
            "     Visiting position: ('currentPos', None) | Minimax Depth: 2 | Tree Depth: 0 | MaxPlayer: True\n",
            "   Visiting position: ('A2', None) | Minimax Depth: 1 | Tree Depth: 1 | MaxPlayer: False\n",
            " Visiting position: ('A22', 6) | Minimax Depth: 0 | Tree Depth: 2 | MaxPlayer: True\n",
            " Visiting position: ('A23', 7) | Minimax Depth: 0 | Tree Depth: 2 | MaxPlayer: True\n",
            " Visiting position: ('A21', 12) | Minimax Depth: 0 | Tree Depth: 2 | MaxPlayer: True\n",
            "   Position: ('A2', None) update value to: 6 \n",
            "\n",
            "   Visiting position: ('A3', None) | Minimax Depth: 1 | Tree Depth: 1 | MaxPlayer: False\n",
            " Visiting position: ('A31', 4) | Minimax Depth: 0 | Tree Depth: 2 | MaxPlayer: True\n",
            " Visiting position: ('A32', 5) | Minimax Depth: 0 | Tree Depth: 2 | MaxPlayer: True\n",
            " Visiting position: ('A33', 12) | Minimax Depth: 0 | Tree Depth: 2 | MaxPlayer: True\n",
            "   Position: ('A3', None) update value to: 4 \n",
            "\n",
            "   Visiting position: ('A1', None) | Minimax Depth: 1 | Tree Depth: 1 | MaxPlayer: False\n",
            " Visiting position: ('A12', 3) | Minimax Depth: 0 | Tree Depth: 2 | MaxPlayer: True\n",
            " Visiting position: ('A13', 8) | Minimax Depth: 0 | Tree Depth: 2 | MaxPlayer: True\n",
            " Visiting position: ('A11', 11) | Minimax Depth: 0 | Tree Depth: 2 | MaxPlayer: True\n",
            "   Position: ('A1', None) update value to: 3 \n",
            "\n",
            "     Position: ('currentPos', None) update value to: 6 \n",
            "\n",
            "\n",
            "Max Player's value at Current Position (root node):  6\n",
            "12 nodes processed/12 total nodes\n"
          ]
        }
      ]
    },
    {
      "cell_type": "markdown",
      "source": [
        "# Minimax AlphaBeta pruning function with code tracing like above\n",
        "- Minimax AlphaBeta doesn't start pruning until alpha and beta are being updated from their init -inf, +inf values respectively. Recall that Minimax acts like an inverted DFS, thus this updating processing doesn't happen until all bottom left nodes are visited.\n",
        "- This is why say you have [A21=12, A22=6, A23=7], A21 cannot be pruned instantly as we intuitively do in our head.\n"
      ],
      "metadata": {
        "id": "-oVbS2u4Wp6n"
      }
    },
    {
      "cell_type": "code",
      "source": [
        "def minimax_alphabeta(pos, minimax_depth, maxPlayer, alpha, beta, tree_depth=0):\n",
        "    global nodeProcessed\n",
        "\n",
        "    # tracing minimax with alpha-beta pruning code\n",
        "    indent = \"  \" * minimax_depth\n",
        "    print(f\"{indent} Visiting position: {pos.getPos()} | Minimax Depth: {minimax_depth} | Tree Depth: {tree_depth} | MaxPlayer: {maxPlayer}\")\n",
        "\n",
        "    if minimax_depth == 0 or gameOver(pos):\n",
        "        return pos.value\n",
        "\n",
        "    if maxPlayer:\n",
        "        maxEval = -float(\"inf\")\n",
        "        for child in pos.children:\n",
        "            nodeProcessed += 1\n",
        "            eval = minimax_alphabeta(pos=child, minimax_depth=minimax_depth - 1, maxPlayer=False, alpha=alpha, beta=beta, tree_depth=tree_depth + 1)\n",
        "            maxEval = max(maxEval, eval)\n",
        "            alpha = max(alpha, eval)\n",
        "            if beta <= alpha:\n",
        "                break\n",
        "        print(f\"{indent} Position: {pos.getPos()} update value to: {maxEval} \\n\")\n",
        "        return maxEval\n",
        "\n",
        "    else:\n",
        "        minEval = float(\"inf\")\n",
        "        for child in pos.children:\n",
        "            nodeProcessed += 1\n",
        "            eval = minimax_alphabeta(pos=child, minimax_depth=minimax_depth - 1, maxPlayer=True, alpha=alpha, beta=beta, tree_depth=tree_depth + 1)\n",
        "            minEval = min(minEval, eval)\n",
        "            beta = min(beta, eval)\n",
        "            if beta <= alpha:\n",
        "                break\n",
        "        print(f\"{indent} Position: {pos.getPos()} update value to: {minEval} \\n\")\n",
        "        return minEval"
      ],
      "metadata": {
        "id": "tQnbPkStrxcM"
      },
      "execution_count": 34,
      "outputs": []
    },
    {
      "cell_type": "markdown",
      "source": [
        "# Minimax AlphaBeta pruning with no sorting bottom nodes"
      ],
      "metadata": {
        "id": "Vo96NRmONRFF"
      }
    },
    {
      "cell_type": "code",
      "source": [
        "nodeProcessed = 0\n",
        "rootPos = minimax_alphabeta(pos=currentPos, minimax_depth=2, maxPlayer=True, alpha=-float(\"inf\"), beta=float(\"inf\"))\n",
        "print(\"\\nMax Player's value at Current Position (root node): \", rootPos)\n",
        "print(f\"{nodeProcessed} nodes processed/12 total nodes\")"
      ],
      "metadata": {
        "colab": {
          "base_uri": "https://localhost:8080/"
        },
        "id": "S_8IjgLBNMH-",
        "outputId": "3e8dd7da-41f6-437a-e0b8-e93c036081b5"
      },
      "execution_count": 63,
      "outputs": [
        {
          "output_type": "stream",
          "name": "stdout",
          "text": [
            "     Visiting position: ('currentPos', None) | Minimax Depth: 2 | Tree Depth: 0 | MaxPlayer: True\n",
            "   Visiting position: ('A2', None) | Minimax Depth: 1 | Tree Depth: 1 | MaxPlayer: False\n",
            " Visiting position: ('A22', 6) | Minimax Depth: 0 | Tree Depth: 2 | MaxPlayer: True\n",
            " Visiting position: ('A23', 7) | Minimax Depth: 0 | Tree Depth: 2 | MaxPlayer: True\n",
            " Visiting position: ('A21', 12) | Minimax Depth: 0 | Tree Depth: 2 | MaxPlayer: True\n",
            "   Position: ('A2', None) update value to: 6 \n",
            "\n",
            "   Visiting position: ('A3', None) | Minimax Depth: 1 | Tree Depth: 1 | MaxPlayer: False\n",
            " Visiting position: ('A31', 4) | Minimax Depth: 0 | Tree Depth: 2 | MaxPlayer: True\n",
            "   Position: ('A3', None) update value to: 4 \n",
            "\n",
            "   Visiting position: ('A1', None) | Minimax Depth: 1 | Tree Depth: 1 | MaxPlayer: False\n",
            " Visiting position: ('A12', 3) | Minimax Depth: 0 | Tree Depth: 2 | MaxPlayer: True\n",
            "   Position: ('A1', None) update value to: 3 \n",
            "\n",
            "     Position: ('currentPos', None) update value to: 6 \n",
            "\n",
            "\n",
            "Max Player's value at Current Position (root node):  6\n",
            "8 nodes processed/12 total nodes\n"
          ]
        }
      ]
    },
    {
      "cell_type": "markdown",
      "source": [
        "# Minimax AlphaBeta pruning with sorting Min Player's children nodes in ascending order and Max Player's children nodes in descending order"
      ],
      "metadata": {
        "id": "IjEa0I2_NYRF"
      }
    },
    {
      "cell_type": "code",
      "source": [
        "currentPos.correct_reorder_children()\n",
        "print_tree(currentPos)"
      ],
      "metadata": {
        "colab": {
          "base_uri": "https://localhost:8080/"
        },
        "id": "7QZkIPyl_L1L",
        "outputId": "1198d920-bb92-40c6-c742-4963e9f5e057"
      },
      "execution_count": 53,
      "outputs": [
        {
          "output_type": "stream",
          "name": "stdout",
          "text": [
            "('currentPos', None)\n",
            "  ('A2', None)\n",
            "    ('A22', 6)\n",
            "    ('A23', 7)\n",
            "    ('A21', 12)\n",
            "  ('A3', None)\n",
            "    ('A31', 4)\n",
            "    ('A32', 5)\n",
            "    ('A33', 12)\n",
            "  ('A1', None)\n",
            "    ('A12', 3)\n",
            "    ('A13', 8)\n",
            "    ('A11', 11)\n"
          ]
        }
      ]
    },
    {
      "cell_type": "code",
      "source": [
        "nodeProcessed = 0\n",
        "rootPos = minimax_alphabeta(pos=currentPos, minimax_depth=2, maxPlayer=True, alpha=-float(\"inf\"), beta=float(\"inf\"))\n",
        "print(\"\\n Max evaluation for Current Position (root node): \", rootPos)\n",
        "print(f\"{nodeProcessed} node processed/12 total nodes\")"
      ],
      "metadata": {
        "colab": {
          "base_uri": "https://localhost:8080/"
        },
        "id": "n9e82quI_NN0",
        "outputId": "4b1b5122-6687-4a46-aaaa-a6be2423b6d4"
      },
      "execution_count": 62,
      "outputs": [
        {
          "output_type": "stream",
          "name": "stdout",
          "text": [
            "     Visiting position: ('currentPos', None) | Minimax Depth: 2 | Tree Depth: 0 | MaxPlayer: True\n",
            "   Visiting position: ('A2', None) | Minimax Depth: 1 | Tree Depth: 1 | MaxPlayer: False\n",
            " Visiting position: ('A22', 6) | Minimax Depth: 0 | Tree Depth: 2 | MaxPlayer: True\n",
            " Visiting position: ('A23', 7) | Minimax Depth: 0 | Tree Depth: 2 | MaxPlayer: True\n",
            " Visiting position: ('A21', 12) | Minimax Depth: 0 | Tree Depth: 2 | MaxPlayer: True\n",
            "   Position: ('A2', None) update value to: 6 \n",
            "\n",
            "   Visiting position: ('A3', None) | Minimax Depth: 1 | Tree Depth: 1 | MaxPlayer: False\n",
            " Visiting position: ('A31', 4) | Minimax Depth: 0 | Tree Depth: 2 | MaxPlayer: True\n",
            "   Position: ('A3', None) update value to: 4 \n",
            "\n",
            "   Visiting position: ('A1', None) | Minimax Depth: 1 | Tree Depth: 1 | MaxPlayer: False\n",
            " Visiting position: ('A12', 3) | Minimax Depth: 0 | Tree Depth: 2 | MaxPlayer: True\n",
            "   Position: ('A1', None) update value to: 3 \n",
            "\n",
            "     Position: ('currentPos', None) update value to: 6 \n",
            "\n",
            "\n",
            " Max evaluation for Current Position (root node):  6\n",
            "8 node processed/12 total nodes\n"
          ]
        }
      ]
    },
    {
      "cell_type": "markdown",
      "source": [
        "# Only sort bottom nodes in ascending/descending order"
      ],
      "metadata": {
        "id": "9vN7i_wGM49U"
      }
    },
    {
      "cell_type": "code",
      "source": [
        "currentPos.naive_reorder_child(reverse=False)\n",
        "print_tree(currentPos)"
      ],
      "metadata": {
        "colab": {
          "base_uri": "https://localhost:8080/"
        },
        "id": "ZdfZejevEExZ",
        "outputId": "4424734c-de11-404e-e648-028a0af7ebcb"
      },
      "execution_count": 40,
      "outputs": [
        {
          "output_type": "stream",
          "name": "stdout",
          "text": [
            "('currentPos', None)\n",
            "  ('A1', None)\n",
            "    ('A12', 3)\n",
            "    ('A13', 8)\n",
            "    ('A11', 11)\n",
            "  ('A3', None)\n",
            "    ('A31', 4)\n",
            "    ('A32', 5)\n",
            "    ('A33', 12)\n",
            "  ('A2', None)\n",
            "    ('A22', 6)\n",
            "    ('A23', 7)\n",
            "    ('A21', 12)\n"
          ]
        }
      ]
    },
    {
      "cell_type": "code",
      "source": [
        "nodeProcessed = 0\n",
        "rootPos = minimax_alphabeta(pos=currentPos, minimax_depth=2, maxPlayer=True, alpha=-float(\"inf\"), beta=float(\"inf\"))\n",
        "print(\"\\n Max evaluation for Current Position (root node): \", rootPos)\n",
        "print(f\"{nodeProcessed} nodes processed/12 total nodes\")"
      ],
      "metadata": {
        "colab": {
          "base_uri": "https://localhost:8080/"
        },
        "id": "av3mkYMSEUNT",
        "outputId": "370d135d-e642-4cc6-bd88-17e292c5d847"
      },
      "execution_count": 61,
      "outputs": [
        {
          "output_type": "stream",
          "name": "stdout",
          "text": [
            "     Visiting position: ('currentPos', None) | Minimax Depth: 2 | Tree Depth: 0 | MaxPlayer: True\n",
            "   Visiting position: ('A2', None) | Minimax Depth: 1 | Tree Depth: 1 | MaxPlayer: False\n",
            " Visiting position: ('A22', 6) | Minimax Depth: 0 | Tree Depth: 2 | MaxPlayer: True\n",
            " Visiting position: ('A23', 7) | Minimax Depth: 0 | Tree Depth: 2 | MaxPlayer: True\n",
            " Visiting position: ('A21', 12) | Minimax Depth: 0 | Tree Depth: 2 | MaxPlayer: True\n",
            "   Position: ('A2', None) update value to: 6 \n",
            "\n",
            "   Visiting position: ('A3', None) | Minimax Depth: 1 | Tree Depth: 1 | MaxPlayer: False\n",
            " Visiting position: ('A31', 4) | Minimax Depth: 0 | Tree Depth: 2 | MaxPlayer: True\n",
            "   Position: ('A3', None) update value to: 4 \n",
            "\n",
            "   Visiting position: ('A1', None) | Minimax Depth: 1 | Tree Depth: 1 | MaxPlayer: False\n",
            " Visiting position: ('A12', 3) | Minimax Depth: 0 | Tree Depth: 2 | MaxPlayer: True\n",
            "   Position: ('A1', None) update value to: 3 \n",
            "\n",
            "     Position: ('currentPos', None) update value to: 6 \n",
            "\n",
            "\n",
            " Max evaluation for Current Position (root node):  6\n",
            "8 nodes processed/12 total nodes\n"
          ]
        }
      ]
    },
    {
      "cell_type": "markdown",
      "source": [
        "# Manual reordering"
      ],
      "metadata": {
        "id": "SoEnNcL0K4cx"
      }
    },
    {
      "cell_type": "code",
      "source": [
        "currentPos.correct_reorder_children()\n",
        "currentPos.children = [A3, A2, A1]\n",
        "print_tree(currentPos)"
      ],
      "metadata": {
        "colab": {
          "base_uri": "https://localhost:8080/"
        },
        "id": "eTtSxC-lFJ18",
        "outputId": "a3a66f48-3af0-439e-f538-4f5057796456"
      },
      "execution_count": 45,
      "outputs": [
        {
          "output_type": "stream",
          "name": "stdout",
          "text": [
            "('currentPos', None)\n",
            "  ('A3', None)\n",
            "    ('A31', 4)\n",
            "    ('A32', 5)\n",
            "    ('A33', 12)\n",
            "  ('A2', None)\n",
            "    ('A22', 6)\n",
            "    ('A23', 7)\n",
            "    ('A21', 12)\n",
            "  ('A1', None)\n",
            "    ('A12', 3)\n",
            "    ('A13', 8)\n",
            "    ('A11', 11)\n"
          ]
        }
      ]
    },
    {
      "cell_type": "code",
      "source": [
        "nodeProcessed = 0\n",
        "rootPos = minimax_alphabeta(pos=currentPos, minimax_depth=2, maxPlayer=True, alpha=-float(\"inf\"), beta=float(\"inf\"))\n",
        "print(\"\\n Max evaluation for Current Position (root node): \", rootPos)\n",
        "print(\"# next positions processed out of total 12 next positions: \", nodeProcessed)"
      ],
      "metadata": {
        "colab": {
          "base_uri": "https://localhost:8080/"
        },
        "id": "Svw6XMLjFk8K",
        "outputId": "a8911e57-75f9-4c80-dc46-30ebb1b326db"
      },
      "execution_count": 46,
      "outputs": [
        {
          "output_type": "stream",
          "name": "stdout",
          "text": [
            "     Visiting position: ('currentPos', None) | Minimax Depth: 2 | Tree Depth: 0 | MaxPlayer: True\n",
            "   Visiting position: ('A3', None) | Minimax Depth: 1 | Tree Depth: 1 | MaxPlayer: False\n",
            " Visiting position: ('A31', 4) | Minimax Depth: 0 | Tree Depth: 2 | MaxPlayer: True\n",
            " Visiting position: ('A32', 5) | Minimax Depth: 0 | Tree Depth: 2 | MaxPlayer: True\n",
            " Visiting position: ('A33', 12) | Minimax Depth: 0 | Tree Depth: 2 | MaxPlayer: True\n",
            "   Position: ('A3', None) update value to: 4 \n",
            "\n",
            "   Visiting position: ('A2', None) | Minimax Depth: 1 | Tree Depth: 1 | MaxPlayer: False\n",
            " Visiting position: ('A22', 6) | Minimax Depth: 0 | Tree Depth: 2 | MaxPlayer: True\n",
            " Visiting position: ('A23', 7) | Minimax Depth: 0 | Tree Depth: 2 | MaxPlayer: True\n",
            " Visiting position: ('A21', 12) | Minimax Depth: 0 | Tree Depth: 2 | MaxPlayer: True\n",
            "   Position: ('A2', None) update value to: 6 \n",
            "\n",
            "   Visiting position: ('A1', None) | Minimax Depth: 1 | Tree Depth: 1 | MaxPlayer: False\n",
            " Visiting position: ('A12', 3) | Minimax Depth: 0 | Tree Depth: 2 | MaxPlayer: True\n",
            "   Position: ('A1', None) update value to: 3 \n",
            "\n",
            "     Position: ('currentPos', None) update value to: 6 \n",
            "\n",
            "\n",
            " Max evaluation for Current Position (root node):  6\n",
            "# next positions processed out of total 12 next positions:  10\n"
          ]
        }
      ]
    }
  ]
}